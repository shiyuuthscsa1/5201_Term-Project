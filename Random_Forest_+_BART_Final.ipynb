{
  "nbformat": 4,
  "nbformat_minor": 0,
  "metadata": {
    "colab": {
      "name": "Random Forest + BART Final.ipynb",
      "provenance": [],
      "collapsed_sections": [],
      "authorship_tag": "ABX9TyORlb9jknGTiwEnFkupdthD",
      "include_colab_link": true
    },
    "kernelspec": {
      "name": "ir",
      "display_name": "R"
    },
    "language_info": {
      "name": "R"
    }
  },
  "cells": [
    {
      "cell_type": "markdown",
      "metadata": {
        "id": "view-in-github",
        "colab_type": "text"
      },
      "source": [
        "<a href=\"https://colab.research.google.com/github/shiyuuthscsa1/5201_Term-Project/blob/main/Random_Forest_%2B_BART_Final.ipynb\" target=\"_parent\"><img src=\"https://colab.research.google.com/assets/colab-badge.svg\" alt=\"Open In Colab\"/></a>"
      ]
    },
    {
      "cell_type": "code",
      "execution_count": 2,
      "metadata": {
        "colab": {
          "base_uri": "https://localhost:8080/"
        },
        "id": "n3KefXS_RyOZ",
        "outputId": "c852a0a3-08af-4715-ab7a-2c09a3b04f6d"
      },
      "outputs": [
        {
          "output_type": "stream",
          "name": "stderr",
          "text": [
            "Installing package into ‘/usr/local/lib/R/site-library’\n",
            "(as ‘lib’ is unspecified)\n",
            "\n",
            "Installing package into ‘/usr/local/lib/R/site-library’\n",
            "(as ‘lib’ is unspecified)\n",
            "\n",
            "Installing package into ‘/usr/local/lib/R/site-library’\n",
            "(as ‘lib’ is unspecified)\n",
            "\n",
            "Installing package into ‘/usr/local/lib/R/site-library’\n",
            "(as ‘lib’ is unspecified)\n",
            "\n"
          ]
        }
      ],
      "source": [
        "install.packages(\"ggplot2\")\n",
        "install.packages(\"cowplot\")\n",
        "install.packages(\"randomForest\")\n",
        "install.packages(\"dplyr\")"
      ]
    },
    {
      "cell_type": "code",
      "source": [
        "library(ggplot2)\n",
        "library(cowplot)\n",
        "library(randomForest)\n",
        "library(dplyr)"
      ],
      "metadata": {
        "colab": {
          "base_uri": "https://localhost:8080/"
        },
        "id": "e7PY_Dg9R5f_",
        "outputId": "68d5a984-9e5d-4346-b504-08bf05732034"
      },
      "execution_count": 3,
      "outputs": [
        {
          "output_type": "stream",
          "name": "stderr",
          "text": [
            "randomForest 4.6-14\n",
            "\n",
            "Type rfNews() to see new features/changes/bug fixes.\n",
            "\n",
            "\n",
            "Attaching package: ‘randomForest’\n",
            "\n",
            "\n",
            "The following object is masked from ‘package:ggplot2’:\n",
            "\n",
            "    margin\n",
            "\n",
            "\n",
            "\n",
            "Attaching package: ‘dplyr’\n",
            "\n",
            "\n",
            "The following object is masked from ‘package:randomForest’:\n",
            "\n",
            "    combine\n",
            "\n",
            "\n",
            "The following objects are masked from ‘package:stats’:\n",
            "\n",
            "    filter, lag\n",
            "\n",
            "\n",
            "The following objects are masked from ‘package:base’:\n",
            "\n",
            "    intersect, setdiff, setequal, union\n",
            "\n",
            "\n"
          ]
        }
      ]
    },
    {
      "cell_type": "markdown",
      "source": [
        "**Step 1: Data Clean Up**"
      ],
      "metadata": {
        "id": "MqYq6JK8SO3U"
      }
    },
    {
      "cell_type": "code",
      "source": [
        "data <- read.csv(\"ML Final Data.csv\")\n",
        "head(data)\n",
        "str(data)"
      ],
      "metadata": {
        "colab": {
          "base_uri": "https://localhost:8080/",
          "height": 592
        },
        "id": "Q6TeOO3ISb1-",
        "outputId": "3b304216-dec3-4b2a-883d-a7764c061120"
      },
      "execution_count": 5,
      "outputs": [
        {
          "output_type": "display_data",
          "data": {
            "text/plain": [
              "  RIAGENDR RIDAGEYR DMDEDUC2 INDFMPIR HbA1c URDACT Work.VPA.MIN\n",
              "1 1        34       3        1.36     5.2   12.22  0           \n",
              "2 2        60       3        0.69     6.0    6.77  0           \n",
              "3 1        26       2        1.01     5.1    2.87  0           \n",
              "4 2        49       4        1.91     5.3    8.39  0           \n",
              "5 1        80       4        1.27     5.4    4.26  0           \n",
              "6 1        80       2        1.69     6.8   27.98  0           \n",
              "  Recreational.VPA.MIN Work.MPA.MIN Recreational.MPA.MIN Transport.MPA.MIN\n",
              "1   0                     0           0                     0             \n",
              "2   0                     0           0                     0             \n",
              "3 480                     0           0                   105             \n",
              "4   0                     0           0                     0             \n",
              "5   0                  1500         240                  1680             \n",
              "6   0                    30           0                     0             \n",
              "  total_MIN BMXWT BMXBMI SED\n",
              "1    0       87.4 32.22  480\n",
              "2    0      116.8 42.39  240\n",
              "3  585       97.6 32.61  720\n",
              "4    0       86.7 30.57  240\n",
              "5 3420       79.1 26.04   60\n",
              "6   30       89.6 27.62  540"
            ],
            "text/latex": "A data.frame: 6 × 15\n\\begin{tabular}{r|lllllllllllllll}\n  & RIAGENDR & RIDAGEYR & DMDEDUC2 & INDFMPIR & HbA1c & URDACT & Work.VPA.MIN & Recreational.VPA.MIN & Work.MPA.MIN & Recreational.MPA.MIN & Transport.MPA.MIN & total\\_MIN & BMXWT & BMXBMI & SED\\\\\n  & <int> & <int> & <int> & <dbl> & <dbl> & <dbl> & <int> & <int> & <int> & <int> & <int> & <int> & <dbl> & <dbl> & <dbl>\\\\\n\\hline\n\t1 & 1 & 34 & 3 & 1.36 & 5.2 & 12.22 & 0 &   0 &    0 &   0 &    0 &    0 &  87.4 & 32.22 & 480\\\\\n\t2 & 2 & 60 & 3 & 0.69 & 6.0 &  6.77 & 0 &   0 &    0 &   0 &    0 &    0 & 116.8 & 42.39 & 240\\\\\n\t3 & 1 & 26 & 2 & 1.01 & 5.1 &  2.87 & 0 & 480 &    0 &   0 &  105 &  585 &  97.6 & 32.61 & 720\\\\\n\t4 & 2 & 49 & 4 & 1.91 & 5.3 &  8.39 & 0 &   0 &    0 &   0 &    0 &    0 &  86.7 & 30.57 & 240\\\\\n\t5 & 1 & 80 & 4 & 1.27 & 5.4 &  4.26 & 0 &   0 & 1500 & 240 & 1680 & 3420 &  79.1 & 26.04 &  60\\\\\n\t6 & 1 & 80 & 2 & 1.69 & 6.8 & 27.98 & 0 &   0 &   30 &   0 &    0 &   30 &  89.6 & 27.62 & 540\\\\\n\\end{tabular}\n",
            "text/markdown": "\nA data.frame: 6 × 15\n\n| <!--/--> | RIAGENDR &lt;int&gt; | RIDAGEYR &lt;int&gt; | DMDEDUC2 &lt;int&gt; | INDFMPIR &lt;dbl&gt; | HbA1c &lt;dbl&gt; | URDACT &lt;dbl&gt; | Work.VPA.MIN &lt;int&gt; | Recreational.VPA.MIN &lt;int&gt; | Work.MPA.MIN &lt;int&gt; | Recreational.MPA.MIN &lt;int&gt; | Transport.MPA.MIN &lt;int&gt; | total_MIN &lt;int&gt; | BMXWT &lt;dbl&gt; | BMXBMI &lt;dbl&gt; | SED &lt;dbl&gt; |\n|---|---|---|---|---|---|---|---|---|---|---|---|---|---|---|---|\n| 1 | 1 | 34 | 3 | 1.36 | 5.2 | 12.22 | 0 |   0 |    0 |   0 |    0 |    0 |  87.4 | 32.22 | 480 |\n| 2 | 2 | 60 | 3 | 0.69 | 6.0 |  6.77 | 0 |   0 |    0 |   0 |    0 |    0 | 116.8 | 42.39 | 240 |\n| 3 | 1 | 26 | 2 | 1.01 | 5.1 |  2.87 | 0 | 480 |    0 |   0 |  105 |  585 |  97.6 | 32.61 | 720 |\n| 4 | 2 | 49 | 4 | 1.91 | 5.3 |  8.39 | 0 |   0 |    0 |   0 |    0 |    0 |  86.7 | 30.57 | 240 |\n| 5 | 1 | 80 | 4 | 1.27 | 5.4 |  4.26 | 0 |   0 | 1500 | 240 | 1680 | 3420 |  79.1 | 26.04 |  60 |\n| 6 | 1 | 80 | 2 | 1.69 | 6.8 | 27.98 | 0 |   0 |   30 |   0 |    0 |   30 |  89.6 | 27.62 | 540 |\n\n",
            "text/html": [
              "<table class=\"dataframe\">\n",
              "<caption>A data.frame: 6 × 15</caption>\n",
              "<thead>\n",
              "\t<tr><th></th><th scope=col>RIAGENDR</th><th scope=col>RIDAGEYR</th><th scope=col>DMDEDUC2</th><th scope=col>INDFMPIR</th><th scope=col>HbA1c</th><th scope=col>URDACT</th><th scope=col>Work.VPA.MIN</th><th scope=col>Recreational.VPA.MIN</th><th scope=col>Work.MPA.MIN</th><th scope=col>Recreational.MPA.MIN</th><th scope=col>Transport.MPA.MIN</th><th scope=col>total_MIN</th><th scope=col>BMXWT</th><th scope=col>BMXBMI</th><th scope=col>SED</th></tr>\n",
              "\t<tr><th></th><th scope=col>&lt;int&gt;</th><th scope=col>&lt;int&gt;</th><th scope=col>&lt;int&gt;</th><th scope=col>&lt;dbl&gt;</th><th scope=col>&lt;dbl&gt;</th><th scope=col>&lt;dbl&gt;</th><th scope=col>&lt;int&gt;</th><th scope=col>&lt;int&gt;</th><th scope=col>&lt;int&gt;</th><th scope=col>&lt;int&gt;</th><th scope=col>&lt;int&gt;</th><th scope=col>&lt;int&gt;</th><th scope=col>&lt;dbl&gt;</th><th scope=col>&lt;dbl&gt;</th><th scope=col>&lt;dbl&gt;</th></tr>\n",
              "</thead>\n",
              "<tbody>\n",
              "\t<tr><th scope=row>1</th><td>1</td><td>34</td><td>3</td><td>1.36</td><td>5.2</td><td>12.22</td><td>0</td><td>  0</td><td>   0</td><td>  0</td><td>   0</td><td>   0</td><td> 87.4</td><td>32.22</td><td>480</td></tr>\n",
              "\t<tr><th scope=row>2</th><td>2</td><td>60</td><td>3</td><td>0.69</td><td>6.0</td><td> 6.77</td><td>0</td><td>  0</td><td>   0</td><td>  0</td><td>   0</td><td>   0</td><td>116.8</td><td>42.39</td><td>240</td></tr>\n",
              "\t<tr><th scope=row>3</th><td>1</td><td>26</td><td>2</td><td>1.01</td><td>5.1</td><td> 2.87</td><td>0</td><td>480</td><td>   0</td><td>  0</td><td> 105</td><td> 585</td><td> 97.6</td><td>32.61</td><td>720</td></tr>\n",
              "\t<tr><th scope=row>4</th><td>2</td><td>49</td><td>4</td><td>1.91</td><td>5.3</td><td> 8.39</td><td>0</td><td>  0</td><td>   0</td><td>  0</td><td>   0</td><td>   0</td><td> 86.7</td><td>30.57</td><td>240</td></tr>\n",
              "\t<tr><th scope=row>5</th><td>1</td><td>80</td><td>4</td><td>1.27</td><td>5.4</td><td> 4.26</td><td>0</td><td>  0</td><td>1500</td><td>240</td><td>1680</td><td>3420</td><td> 79.1</td><td>26.04</td><td> 60</td></tr>\n",
              "\t<tr><th scope=row>6</th><td>1</td><td>80</td><td>2</td><td>1.69</td><td>6.8</td><td>27.98</td><td>0</td><td>  0</td><td>  30</td><td>  0</td><td>   0</td><td>  30</td><td> 89.6</td><td>27.62</td><td>540</td></tr>\n",
              "</tbody>\n",
              "</table>\n"
            ]
          },
          "metadata": {}
        },
        {
          "output_type": "stream",
          "name": "stdout",
          "text": [
            "'data.frame':\t23045 obs. of  15 variables:\n",
            " $ RIAGENDR            : int  1 2 1 2 1 1 2 2 1 1 ...\n",
            " $ RIDAGEYR            : int  34 60 26 49 80 80 42 45 28 44 ...\n",
            " $ DMDEDUC2            : int  3 3 2 4 4 2 2 5 1 3 ...\n",
            " $ INDFMPIR            : num  1.36 0.69 1.01 1.91 1.27 1.69 2.35 5 0.09 4.43 ...\n",
            " $ HbA1c               : num  5.2 6 5.1 5.3 5.4 6.8 11 5.1 5.9 5.4 ...\n",
            " $ URDACT              : num  12.22 6.77 2.87 8.39 4.26 ...\n",
            " $ Work.VPA.MIN        : int  0 0 0 0 0 0 0 0 0 0 ...\n",
            " $ Recreational.VPA.MIN: int  0 0 480 0 0 0 0 90 60 0 ...\n",
            " $ Work.MPA.MIN        : int  0 0 0 0 1500 30 0 420 0 0 ...\n",
            " $ Recreational.MPA.MIN: int  0 0 0 0 240 0 0 300 120 0 ...\n",
            " $ Transport.MPA.MIN   : int  0 0 105 0 1680 0 0 0 120 0 ...\n",
            " $ total_MIN           : int  0 0 585 0 3420 30 0 810 300 0 ...\n",
            " $ BMXWT               : num  87.4 116.8 97.6 86.7 79.1 ...\n",
            " $ BMXBMI              : num  32.2 42.4 32.6 30.6 26 ...\n",
            " $ SED                 : num  480 240 720 240 60 540 30 720 30 600 ...\n"
          ]
        }
      ]
    },
    {
      "cell_type": "code",
      "source": [
        "data[data$RIAGENDR == 1, ]$RIAGENDR <- \"M\"\n",
        "data[data$RIAGENDR == 2, ]$RIAGENDR <- \"F\"\n",
        "data$RIAGENDR <- as.factor(data$RIAGENDR)\n",
        "\n",
        "\n",
        "data[data$DMDEDUC2 == 1, ]$DMDEDUC2 <- \"High school or lower\"\n",
        "data[data$DMDEDUC2 == 2, ]$DMDEDUC2 <- \"High school or lower\"\n",
        "data[data$DMDEDUC2 == 3, ]$DMDEDUC2 <- \"High school or lower\"\n",
        "data[data$DMDEDUC2 == 4, ]$DMDEDUC2 <- \"Higher than high school\"\n",
        "data[data$DMDEDUC2 == 5, ]$DMDEDUC2 <- \"Higher than high school\"\n",
        "data <- data[data$DMDEDUC2 != 7, ]  \n",
        "data <- data[data$DMDEDUC2 != 9, ]\n",
        "data$DMDEDUC2 <- as.factor(data$DMDEDUC2)\n",
        "\n",
        "summary(data)\n"
      ],
      "metadata": {
        "colab": {
          "base_uri": "https://localhost:8080/",
          "height": 517
        },
        "id": "iJDME5RvSJef",
        "outputId": "72dce7ff-2092-4f80-b6f7-f84975aceaf1"
      },
      "execution_count": 6,
      "outputs": [
        {
          "output_type": "display_data",
          "data": {
            "text/plain": [
              " RIAGENDR     RIDAGEYR                       DMDEDUC2        INDFMPIR    \n",
              " F:11889   Min.   :20.0   High school or lower   :10255   Min.   :0.000  \n",
              " M:11140   1st Qu.:34.0   Higher than high school:12774   1st Qu.:1.080  \n",
              "           Median :49.0                                   Median :2.060  \n",
              "           Mean   :49.2                                   Mean   :2.488  \n",
              "           3rd Qu.:63.0                                   3rd Qu.:4.040  \n",
              "           Max.   :80.0                                   Max.   :5.000  \n",
              "     HbA1c            URDACT          Work.VPA.MIN    Recreational.VPA.MIN\n",
              " Min.   : 3.500   Min.   :    0.25   Min.   :   0.0   Min.   :   0.00     \n",
              " 1st Qu.: 5.200   1st Qu.:    4.61   1st Qu.:   0.0   1st Qu.:   0.00     \n",
              " Median : 5.500   Median :    7.14   Median :   0.0   Median :   0.00     \n",
              " Mean   : 5.787   Mean   :   44.38   Mean   : 164.7   Mean   :  54.74     \n",
              " 3rd Qu.: 5.900   3rd Qu.:   13.68   3rd Qu.:   0.0   3rd Qu.:   0.00     \n",
              " Max.   :17.800   Max.   :21152.17   Max.   :6720.0   Max.   :3360.00     \n",
              "  Work.MPA.MIN    Recreational.MPA.MIN Transport.MPA.MIN   total_MIN     \n",
              " Min.   :   0.0   Min.   :   0.00      Min.   :   0.00   Min.   :   0.0  \n",
              " 1st Qu.:   0.0   1st Qu.:   0.00      1st Qu.:   0.00   1st Qu.:   0.0  \n",
              " Median :   0.0   Median :   0.00      Median :   0.00   Median : 240.0  \n",
              " Mean   : 277.3   Mean   :  89.81      Mean   :  81.88   Mean   : 668.5  \n",
              " 3rd Qu.: 240.0   3rd Qu.: 120.00      3rd Qu.:  10.00   3rd Qu.: 840.0  \n",
              " Max.   :6300.0   Max.   :4500.00      Max.   :6300.00   Max.   :9720.0  \n",
              "     BMXWT            BMXBMI           SED       \n",
              " Min.   : 32.30   Min.   :13.18   Min.   :  0.0  \n",
              " 1st Qu.: 66.70   1st Qu.:24.36   1st Qu.:180.0  \n",
              " Median : 78.70   Median :28.10   Median :360.0  \n",
              " Mean   : 81.98   Mean   :29.30   Mean   :359.3  \n",
              " 3rd Qu.: 93.40   3rd Qu.:32.80   3rd Qu.:480.0  \n",
              " Max.   :242.60   Max.   :86.20   Max.   :960.0  "
            ]
          },
          "metadata": {}
        }
      ]
    },
    {
      "cell_type": "markdown",
      "source": [
        "**Step 2: Set up the training and test data. To make it easier for computation. We split data to 1:4 (1 for training, 4 for testing)**"
      ],
      "metadata": {
        "id": "HejexosRSiZI"
      }
    },
    {
      "cell_type": "code",
      "source": [
        "n <- nrow(data)\n",
        "set.seed (13)\n",
        "ntest <- trunc(n / 4)\n",
        "trainid <- sample (1:n, ntest)\n",
        "testid <- as.numeric(rownames(data[-trainid,]))\n",
        "\n",
        "\n",
        "xtrain <- na.omit(select(data[trainid,], -\"HbA1c\"))\n",
        "ytrain <- na.omit(data[trainid, \"HbA1c\"])\n",
        "\n",
        "ytest <- na.omit(data[testid, \"HbA1c\"])\n",
        "xtest <- na.omit(select(data[testid,], -\"HbA1c\"))"
      ],
      "metadata": {
        "id": "YxuYo0fbSe8g"
      },
      "execution_count": 8,
      "outputs": []
    },
    {
      "cell_type": "markdown",
      "source": [
        "**Step 3: Fit training data to random forest mode by default values**"
      ],
      "metadata": {
        "id": "EowUFMIoS7kN"
      }
    },
    {
      "cell_type": "code",
      "source": [
        "rf.nhanes <- randomForest(HbA1c~., data = data, subset = trainid)\n",
        "rf.nhanes\n"
      ],
      "metadata": {
        "colab": {
          "base_uri": "https://localhost:8080/",
          "height": 178
        },
        "id": "Qv3bnyyCTB9N",
        "outputId": "ec6b510c-b327-415f-c259-3373332325ee"
      },
      "execution_count": 9,
      "outputs": [
        {
          "output_type": "display_data",
          "data": {
            "text/plain": [
              "\n",
              "Call:\n",
              " randomForest(formula = HbA1c ~ ., data = data, subset = trainid) \n",
              "               Type of random forest: regression\n",
              "                     Number of trees: 500\n",
              "No. of variables tried at each split: 4\n",
              "\n",
              "          Mean of squared residuals: 1.049751\n",
              "                    % Var explained: 16.63"
            ]
          },
          "metadata": {}
        }
      ]
    },
    {
      "cell_type": "markdown",
      "source": [
        "Summary: \n",
        "The random forest was built to predict HbA1c.\n",
        "The default number of trees is 500\n",
        "4 variables were considered at each internal node by default when building the trees "
      ],
      "metadata": {
        "id": "hTZS3ecYTanC"
      }
    },
    {
      "cell_type": "markdown",
      "source": [
        "**Step 4: Plot the training MSE by number of trees to select optional number of trees.**"
      ],
      "metadata": {
        "id": "pB7PlTKRT_BN"
      }
    },
    {
      "cell_type": "code",
      "source": [
        "rf.mse <- data.frame(Trees = rep(1:500), mse = c(rf.nhanes$mse))\n",
        "ggplot(data = rf.mse, aes(x=Trees, y=mse)) + geom_point() + geom_line() + \n",
        "  ggtitle(\"Changes in training MSE by number of trees, p = 4\") + theme(plot.title = element_text(hjust = 0.5))\n"
      ],
      "metadata": {
        "colab": {
          "base_uri": "https://localhost:8080/",
          "height": 437
        },
        "id": "Ezh24-mCUL5V",
        "outputId": "268ca306-2cb2-4484-b6bc-0231ecedb18c"
      },
      "execution_count": 10,
      "outputs": [
        {
          "output_type": "display_data",
          "data": {
            "image/png": "[encoded data removed]",
            "text/plain": [
              "plot without title"
            ]
          },
          "metadata": {
            "image/png": {
              "width": 420,
              "height": 420
            }
          }
        }
      ]
    },
    {
      "cell_type": "markdown",
      "source": [
        "Training MSE becomes stable after ntrees >= 250\n",
        "Therefore, I chose ntrees = 250"
      ],
      "metadata": {
        "id": "QWnLs5fAUQqR"
      }
    },
    {
      "cell_type": "markdown",
      "source": [
        "**Step 5: Select the optimal number of variables (total p = 14, ntrees = 250)**"
      ],
      "metadata": {
        "id": "FqV1o9cPUbx-"
      }
    },
    {
      "cell_type": "code",
      "source": [
        "train.mse <- vector(length = 14)\n",
        "for (i in 1:14){\n",
        "  temp.model <- randomForest(HbA1c~., data = data, subset = trainid, mtry = i, ntree = 250)\n",
        "  train.mse[i] <- temp.model$mse[250]\n",
        "}\n",
        "data.frame(num_var = rep(1:14), mse = c(train.mse))\n"
      ],
      "metadata": {
        "colab": {
          "base_uri": "https://localhost:8080/",
          "height": 537
        },
        "id": "O0xWiLk5UZ5q",
        "outputId": "1753565d-f66d-471a-a049-5367de091016"
      },
      "execution_count": 11,
      "outputs": [
        {
          "output_type": "display_data",
          "data": {
            "text/plain": [
              "   num_var mse     \n",
              "1   1      1.069842\n",
              "2   2      1.042850\n",
              "3   3      1.051861\n",
              "4   4      1.061873\n",
              "5   5      1.068276\n",
              "6   6      1.070207\n",
              "7   7      1.067068\n",
              "8   8      1.081271\n",
              "9   9      1.085140\n",
              "10 10      1.084644\n",
              "11 11      1.087371\n",
              "12 12      1.086756\n",
              "13 13      1.090794\n",
              "14 14      1.096937"
            ],
            "text/latex": "A data.frame: 14 × 2\n\\begin{tabular}{ll}\n num\\_var & mse\\\\\n <int> & <dbl>\\\\\n\\hline\n\t  1 & 1.069842\\\\\n\t  2 & 1.042850\\\\\n\t  3 & 1.051861\\\\\n\t  4 & 1.061873\\\\\n\t  5 & 1.068276\\\\\n\t  6 & 1.070207\\\\\n\t  7 & 1.067068\\\\\n\t  8 & 1.081271\\\\\n\t  9 & 1.085140\\\\\n\t 10 & 1.084644\\\\\n\t 11 & 1.087371\\\\\n\t 12 & 1.086756\\\\\n\t 13 & 1.090794\\\\\n\t 14 & 1.096937\\\\\n\\end{tabular}\n",
            "text/markdown": "\nA data.frame: 14 × 2\n\n| num_var &lt;int&gt; | mse &lt;dbl&gt; |\n|---|---|\n|  1 | 1.069842 |\n|  2 | 1.042850 |\n|  3 | 1.051861 |\n|  4 | 1.061873 |\n|  5 | 1.068276 |\n|  6 | 1.070207 |\n|  7 | 1.067068 |\n|  8 | 1.081271 |\n|  9 | 1.085140 |\n| 10 | 1.084644 |\n| 11 | 1.087371 |\n| 12 | 1.086756 |\n| 13 | 1.090794 |\n| 14 | 1.096937 |\n\n",
            "text/html": [
              "<table class=\"dataframe\">\n",
              "<caption>A data.frame: 14 × 2</caption>\n",
              "<thead>\n",
              "\t<tr><th scope=col>num_var</th><th scope=col>mse</th></tr>\n",
              "\t<tr><th scope=col>&lt;int&gt;</th><th scope=col>&lt;dbl&gt;</th></tr>\n",
              "</thead>\n",
              "<tbody>\n",
              "\t<tr><td> 1</td><td>1.069842</td></tr>\n",
              "\t<tr><td> 2</td><td>1.042850</td></tr>\n",
              "\t<tr><td> 3</td><td>1.051861</td></tr>\n",
              "\t<tr><td> 4</td><td>1.061873</td></tr>\n",
              "\t<tr><td> 5</td><td>1.068276</td></tr>\n",
              "\t<tr><td> 6</td><td>1.070207</td></tr>\n",
              "\t<tr><td> 7</td><td>1.067068</td></tr>\n",
              "\t<tr><td> 8</td><td>1.081271</td></tr>\n",
              "\t<tr><td> 9</td><td>1.085140</td></tr>\n",
              "\t<tr><td>10</td><td>1.084644</td></tr>\n",
              "\t<tr><td>11</td><td>1.087371</td></tr>\n",
              "\t<tr><td>12</td><td>1.086756</td></tr>\n",
              "\t<tr><td>13</td><td>1.090794</td></tr>\n",
              "\t<tr><td>14</td><td>1.096937</td></tr>\n",
              "</tbody>\n",
              "</table>\n"
            ]
          },
          "metadata": {}
        }
      ]
    },
    {
      "cell_type": "markdown",
      "source": [
        "The 2nd value, corresponding to mtry = 2, has the lowest training MSE. "
      ],
      "metadata": {
        "id": "adJGsdxEWs57"
      }
    },
    {
      "cell_type": "code",
      "source": [
        "ggplot(data = data.frame(num_var = rep(1:14), mse = c(train.mse)), aes(x=num_var, y=mse)) + geom_point() + geom_line() + \n",
        "  ggtitle(\"Changes in training MSE by number of variables, ntrees = 250\") + theme(plot.title = element_text(hjust = 0.5))\n"
      ],
      "metadata": {
        "colab": {
          "base_uri": "https://localhost:8080/",
          "height": 437
        },
        "id": "jigGQ8ZGWxuC",
        "outputId": "ba0ed554-01cf-4043-90f7-a8f7181cde31"
      },
      "execution_count": 13,
      "outputs": [
        {
          "output_type": "display_data",
          "data": {
            "image/png": "[encoded data removed]",
            "text/plain": [
              "plot without title"
            ]
          },
          "metadata": {
            "image/png": {
              "width": 420,
              "height": 420
            }
          }
        }
      ]
    },
    {
      "cell_type": "markdown",
      "source": [
        "**Step 6: Fit the training data into the optimal random forest model, p = 2, ntrees = 250**"
      ],
      "metadata": {
        "id": "l1ZRDvGdW5FL"
      }
    },
    {
      "cell_type": "code",
      "source": [
        "rf.nhanes.new <- randomForest(HbA1c~., data = data, subset = trainid, mtry = 2, ntree = 250)"
      ],
      "metadata": {
        "id": "Dft6amrXW4Sl"
      },
      "execution_count": 16,
      "outputs": []
    },
    {
      "cell_type": "code",
      "source": [
        "rf.nhanes.new"
      ],
      "metadata": {
        "colab": {
          "base_uri": "https://localhost:8080/",
          "height": 178
        },
        "id": "VBmNaPE6XKa3",
        "outputId": "e4261014-018c-4f67-c961-3e7259218f54"
      },
      "execution_count": 17,
      "outputs": [
        {
          "output_type": "display_data",
          "data": {
            "text/plain": [
              "\n",
              "Call:\n",
              " randomForest(formula = HbA1c ~ ., data = data, mtry = 2, ntree = 250,      subset = trainid) \n",
              "               Type of random forest: regression\n",
              "                     Number of trees: 250\n",
              "No. of variables tried at each split: 2\n",
              "\n",
              "          Mean of squared residuals: 1.050871\n",
              "                    % Var explained: 16.54"
            ]
          },
          "metadata": {}
        }
      ]
    },
    {
      "cell_type": "markdown",
      "source": [
        "**Step 6: Predict HbA1c using testing dataset**"
      ],
      "metadata": {
        "id": "MV1t5tAhXcUS"
      }
    },
    {
      "cell_type": "code",
      "source": [
        "test_HbA1c <- na.omit(data[testid, \"HbA1c\"])\n",
        "data.test <- na.omit(select(data[testid,], -\"HbA1c\"))\n",
        "yhat.rf <- predict(rf.nhanes.new, newdata = data.test)\n",
        "mean((yhat.rf - test_HbA1c)^2)\n",
        "mean(abs(yhat.rf - test_HbA1c))"
      ],
      "metadata": {
        "colab": {
          "base_uri": "https://localhost:8080/",
          "height": 52
        },
        "id": "vofL2yIWXkJT",
        "outputId": "a6af24fa-35e6-4d34-b95f-736ac1e1ecd0"
      },
      "execution_count": 37,
      "outputs": [
        {
          "output_type": "display_data",
          "data": {
            "text/plain": [
              "[1] 0.8283259"
            ],
            "text/latex": "0.828325948476939",
            "text/markdown": "0.828325948476939",
            "text/html": [
              "0.828325948476939"
            ]
          },
          "metadata": {}
        },
        {
          "output_type": "display_data",
          "data": {
            "text/plain": [
              "[1] 0.5022632"
            ],
            "text/latex": "0.502263150554685",
            "text/markdown": "0.502263150554685",
            "text/html": [
              "0.502263150554685"
            ]
          },
          "metadata": {}
        }
      ]
    },
    {
      "cell_type": "markdown",
      "source": [
        "**Step 7: Compare the importance of each variable in the training and testing model**"
      ],
      "metadata": {
        "id": "13jd32vEa-l_"
      }
    },
    {
      "cell_type": "code",
      "source": [
        "importance(rf.nhanes.new)\n",
        "varImpPlot(rf.nhanes.new)"
      ],
      "metadata": {
        "colab": {
          "base_uri": "https://localhost:8080/",
          "height": 926
        },
        "id": "lz3vZ8QhbG3b",
        "outputId": "bf74d62d-a674-4e7d-d5e5-6fd55f556555"
      },
      "execution_count": 39,
      "outputs": [
        {
          "output_type": "display_data",
          "data": {
            "text/plain": [
              "                     IncNodePurity\n",
              "RIAGENDR               82.43042   \n",
              "RIDAGEYR              878.67896   \n",
              "DMDEDUC2               93.72412   \n",
              "INDFMPIR              519.98497   \n",
              "URDACT               1035.67428   \n",
              "Work.VPA.MIN          135.92307   \n",
              "Recreational.VPA.MIN  183.60911   \n",
              "Work.MPA.MIN          227.99839   \n",
              "Recreational.MPA.MIN  219.69615   \n",
              "Transport.MPA.MIN     196.05771   \n",
              "total_MIN             378.13494   \n",
              "BMXWT                 636.20666   \n",
              "BMXBMI                700.00355   \n",
              "SED                   373.83851   "
            ],
            "text/latex": "A matrix: 14 × 1 of type dbl\n\\begin{tabular}{r|l}\n  & IncNodePurity\\\\\n\\hline\n\tRIAGENDR &   82.43042\\\\\n\tRIDAGEYR &  878.67896\\\\\n\tDMDEDUC2 &   93.72412\\\\\n\tINDFMPIR &  519.98497\\\\\n\tURDACT & 1035.67428\\\\\n\tWork.VPA.MIN &  135.92307\\\\\n\tRecreational.VPA.MIN &  183.60911\\\\\n\tWork.MPA.MIN &  227.99839\\\\\n\tRecreational.MPA.MIN &  219.69615\\\\\n\tTransport.MPA.MIN &  196.05771\\\\\n\ttotal\\_MIN &  378.13494\\\\\n\tBMXWT &  636.20666\\\\\n\tBMXBMI &  700.00355\\\\\n\tSED &  373.83851\\\\\n\\end{tabular}\n",
            "text/markdown": "\nA matrix: 14 × 1 of type dbl\n\n| <!--/--> | IncNodePurity |\n|---|---|\n| RIAGENDR |   82.43042 |\n| RIDAGEYR |  878.67896 |\n| DMDEDUC2 |   93.72412 |\n| INDFMPIR |  519.98497 |\n| URDACT | 1035.67428 |\n| Work.VPA.MIN |  135.92307 |\n| Recreational.VPA.MIN |  183.60911 |\n| Work.MPA.MIN |  227.99839 |\n| Recreational.MPA.MIN |  219.69615 |\n| Transport.MPA.MIN |  196.05771 |\n| total_MIN |  378.13494 |\n| BMXWT |  636.20666 |\n| BMXBMI |  700.00355 |\n| SED |  373.83851 |\n\n",
            "text/html": [
              "<table class=\"dataframe\">\n",
              "<caption>A matrix: 14 × 1 of type dbl</caption>\n",
              "<thead>\n",
              "\t<tr><th></th><th scope=col>IncNodePurity</th></tr>\n",
              "</thead>\n",
              "<tbody>\n",
              "\t<tr><th scope=row>RIAGENDR</th><td>  82.43042</td></tr>\n",
              "\t<tr><th scope=row>RIDAGEYR</th><td> 878.67896</td></tr>\n",
              "\t<tr><th scope=row>DMDEDUC2</th><td>  93.72412</td></tr>\n",
              "\t<tr><th scope=row>INDFMPIR</th><td> 519.98497</td></tr>\n",
              "\t<tr><th scope=row>URDACT</th><td>1035.67428</td></tr>\n",
              "\t<tr><th scope=row>Work.VPA.MIN</th><td> 135.92307</td></tr>\n",
              "\t<tr><th scope=row>Recreational.VPA.MIN</th><td> 183.60911</td></tr>\n",
              "\t<tr><th scope=row>Work.MPA.MIN</th><td> 227.99839</td></tr>\n",
              "\t<tr><th scope=row>Recreational.MPA.MIN</th><td> 219.69615</td></tr>\n",
              "\t<tr><th scope=row>Transport.MPA.MIN</th><td> 196.05771</td></tr>\n",
              "\t<tr><th scope=row>total_MIN</th><td> 378.13494</td></tr>\n",
              "\t<tr><th scope=row>BMXWT</th><td> 636.20666</td></tr>\n",
              "\t<tr><th scope=row>BMXBMI</th><td> 700.00355</td></tr>\n",
              "\t<tr><th scope=row>SED</th><td> 373.83851</td></tr>\n",
              "</tbody>\n",
              "</table>\n"
            ]
          },
          "metadata": {}
        },
        {
          "output_type": "display_data",
          "data": {
            "image/png": "[encoded data removed]",
            "text/plain": [
              "Plot with title “rf.nhanes.new”"
            ]
          },
          "metadata": {
            "image/png": {
              "width": 420,
              "height": 420
            }
          }
        }
      ]
    },
    {
      "cell_type": "markdown",
      "source": [
        "### BART"
      ],
      "metadata": {
        "id": "Tvl4pS-SavJo"
      }
    },
    {
      "cell_type": "code",
      "source": [
        "install.packages(\"BART\")"
      ],
      "metadata": {
        "colab": {
          "base_uri": "https://localhost:8080/"
        },
        "id": "2-GzLM-YauUE",
        "outputId": "12fde47a-6563-47c8-b9db-7b8374a6f4c7"
      },
      "execution_count": 38,
      "outputs": [
        {
          "output_type": "stream",
          "name": "stderr",
          "text": [
            "Installing package into ‘/usr/local/lib/R/site-library’\n",
            "(as ‘lib’ is unspecified)\n",
            "\n"
          ]
        }
      ]
    },
    {
      "cell_type": "code",
      "source": [
        "library(BART)"
      ],
      "metadata": {
        "colab": {
          "base_uri": "https://localhost:8080/"
        },
        "id": "cgMNtKa-a2fL",
        "outputId": "1d78ca45-2747-48c4-bd92-358fa789cb1d"
      },
      "execution_count": 40,
      "outputs": [
        {
          "output_type": "stream",
          "name": "stderr",
          "text": [
            "Loading required package: nlme\n",
            "\n",
            "\n",
            "Attaching package: ‘nlme’\n",
            "\n",
            "\n",
            "The following object is masked from ‘package:dplyr’:\n",
            "\n",
            "    collapse\n",
            "\n",
            "\n",
            "Loading required package: nnet\n",
            "\n",
            "Loading required package: survival\n",
            "\n"
          ]
        }
      ]
    },
    {
      "cell_type": "markdown",
      "source": [
        "**Step 1: Fit training and testing data into gbart function with default settings**"
      ],
      "metadata": {
        "id": "aQ0leljNczDP"
      }
    },
    {
      "cell_type": "code",
      "source": [
        "xtrain <- na.omit(select(data[trainid,], -\"HbA1c\"))\n",
        "ytrain <- na.omit(data[trainid, \"HbA1c\"])\n",
        "\n",
        "ytest <- na.omit(data[testid, \"HbA1c\"])\n",
        "xtest <- na.omit(select(data[testid,], -\"HbA1c\"))"
      ],
      "metadata": {
        "id": "YIjrL_wtbdge"
      },
      "execution_count": 43,
      "outputs": []
    },
    {
      "cell_type": "code",
      "source": [
        "bart.nhanes <- gbart(xtrain, ytrain, x.test = xtest)"
      ],
      "metadata": {
        "colab": {
          "base_uri": "https://localhost:8080/"
        },
        "id": "0B7hg8oAbPwE",
        "outputId": "75eae187-0e15-45c7-a5e7-3744290ebdaf"
      },
      "execution_count": 44,
      "outputs": [
        {
          "output_type": "stream",
          "name": "stdout",
          "text": [
            "*****Calling gbart: type=1\n",
            "*****Data:\n",
            "data:n,p,np: 5757, 16, 17262\n",
            "y1,yn: -0.601285, 1.598715\n",
            "x1,x[n*p]: 1.000000, 120.000000\n",
            "xp1,xp[np*p]: 0.000000, 720.000000\n",
            "*****Number of Trees: 200\n",
            "*****Number of Cut Points: 1 ... 37\n",
            "*****burn,nd,thin: 100,1000,1\n",
            "*****Prior:beta,alpha,tau,nu,lambda,offset: 2,0.95,0.243952,3,0.208937,5.80129\n",
            "*****sigma: 1.035672\n",
            "*****w (weights): 1.000000 ... 1.000000\n",
            "*****Dirichlet:sparse,theta,omega,a,b,rho,augment: 0,0,1,0.5,1,16,0\n",
            "*****printevery: 100\n",
            "\n",
            "MCMC\n",
            "done 0 (out of 1100)\n",
            "done 100 (out of 1100)\n",
            "done 200 (out of 1100)\n",
            "done 300 (out of 1100)\n",
            "done 400 (out of 1100)\n",
            "done 500 (out of 1100)\n",
            "done 600 (out of 1100)\n",
            "done 700 (out of 1100)\n",
            "done 800 (out of 1100)\n",
            "done 900 (out of 1100)\n",
            "done 1000 (out of 1100)\n",
            "time: 84s\n",
            "trcnt,tecnt: 1000,1000\n"
          ]
        }
      ]
    },
    {
      "cell_type": "markdown",
      "source": [
        "**Step 2: Compute the testing mse and mean absolute arror**"
      ],
      "metadata": {
        "id": "I4V06NdYc_dG"
      }
    },
    {
      "cell_type": "code",
      "source": [
        "yhat.bart <- bart.nhanes$yhat.test.mean\n",
        "mean((ytest - yhat.bart) ^ 2)\n",
        "mean(abs(ytest - yhat.bart))"
      ],
      "metadata": {
        "colab": {
          "base_uri": "https://localhost:8080/",
          "height": 52
        },
        "id": "1sFCT3_6cCWz",
        "outputId": "8446db59-ba85-446b-87de-2209ab20d480"
      },
      "execution_count": 48,
      "outputs": [
        {
          "output_type": "display_data",
          "data": {
            "text/plain": [
              "[1] 1.010012"
            ],
            "text/latex": "1.01001212806892",
            "text/markdown": "1.01001212806892",
            "text/html": [
              "1.01001212806892"
            ]
          },
          "metadata": {}
        },
        {
          "output_type": "display_data",
          "data": {
            "text/plain": [
              "[1] 0.5678105"
            ],
            "text/latex": "0.567810494950367",
            "text/markdown": "0.567810494950367",
            "text/html": [
              "0.567810494950367"
            ]
          },
          "metadata": {}
        }
      ]
    },
    {
      "cell_type": "markdown",
      "source": [
        "**Step 3: Check how many times each variable appeared in the collection of trees**"
      ],
      "metadata": {
        "id": "rf7g9CsidL6q"
      }
    },
    {
      "cell_type": "code",
      "source": [
        "ord <- order(bart.nhanes$varcount.mean, decreasing = T)\n",
        "bart.nhanes$varcount.mean[ord]"
      ],
      "metadata": {
        "colab": {
          "base_uri": "https://localhost:8080/",
          "height": 69
        },
        "id": "F3FQ5SmccZ8d",
        "outputId": "db323a34-84c8-4030-a105-0df7b5becb22"
      },
      "execution_count": 47,
      "outputs": [
        {
          "output_type": "display_data",
          "data": {
            "text/plain": [
              "            RIDAGEYR            DMDEDUC22            RIAGENDR2 \n",
              "              18.795               18.656               17.753 \n",
              "           DMDEDUC21            RIAGENDR1               BMXBMI \n",
              "              16.141               15.791               14.561 \n",
              "            INDFMPIR                  SED                BMXWT \n",
              "              14.361               13.798               13.299 \n",
              "Recreational.VPA.MIN               URDACT    Transport.MPA.MIN \n",
              "              13.271               12.286               11.630 \n",
              "        Work.MPA.MIN         Work.VPA.MIN Recreational.MPA.MIN \n",
              "              11.444               11.161               10.634 \n",
              "           total_MIN \n",
              "              10.108 "
            ],
            "text/latex": "\\begin{description*}\n\\item[RIDAGEYR] 18.795\n\\item[DMDEDUC22] 18.656\n\\item[RIAGENDR2] 17.753\n\\item[DMDEDUC21] 16.141\n\\item[RIAGENDR1] 15.791\n\\item[BMXBMI] 14.561\n\\item[INDFMPIR] 14.361\n\\item[SED] 13.798\n\\item[BMXWT] 13.299\n\\item[Recreational.VPA.MIN] 13.271\n\\item[URDACT] 12.286\n\\item[Transport.MPA.MIN] 11.63\n\\item[Work.MPA.MIN] 11.444\n\\item[Work.VPA.MIN] 11.161\n\\item[Recreational.MPA.MIN] 10.634\n\\item[total\\textbackslash{}\\_MIN] 10.108\n\\end{description*}\n",
            "text/markdown": "RIDAGEYR\n:   18.795DMDEDUC22\n:   18.656RIAGENDR2\n:   17.753DMDEDUC21\n:   16.141RIAGENDR1\n:   15.791BMXBMI\n:   14.561INDFMPIR\n:   14.361SED\n:   13.798BMXWT\n:   13.299Recreational.VPA.MIN\n:   13.271URDACT\n:   12.286Transport.MPA.MIN\n:   11.63Work.MPA.MIN\n:   11.444Work.VPA.MIN\n:   11.161Recreational.MPA.MIN\n:   10.634total_MIN\n:   10.108\n\n",
            "text/html": [
              "<style>\n",
              ".dl-inline {width: auto; margin:0; padding: 0}\n",
              ".dl-inline>dt, .dl-inline>dd {float: none; width: auto; display: inline-block}\n",
              ".dl-inline>dt::after {content: \":\\0020\"; padding-right: .5ex}\n",
              ".dl-inline>dt:not(:first-of-type) {padding-left: .5ex}\n",
              "</style><dl class=dl-inline><dt>RIDAGEYR</dt><dd>18.795</dd><dt>DMDEDUC22</dt><dd>18.656</dd><dt>RIAGENDR2</dt><dd>17.753</dd><dt>DMDEDUC21</dt><dd>16.141</dd><dt>RIAGENDR1</dt><dd>15.791</dd><dt>BMXBMI</dt><dd>14.561</dd><dt>INDFMPIR</dt><dd>14.361</dd><dt>SED</dt><dd>13.798</dd><dt>BMXWT</dt><dd>13.299</dd><dt>Recreational.VPA.MIN</dt><dd>13.271</dd><dt>URDACT</dt><dd>12.286</dd><dt>Transport.MPA.MIN</dt><dd>11.63</dd><dt>Work.MPA.MIN</dt><dd>11.444</dd><dt>Work.VPA.MIN</dt><dd>11.161</dd><dt>Recreational.MPA.MIN</dt><dd>10.634</dd><dt>total_MIN</dt><dd>10.108</dd></dl>\n"
            ]
          },
          "metadata": {}
        }
      ]
    }
  ]
}